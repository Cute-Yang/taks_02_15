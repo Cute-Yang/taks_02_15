{
 "cells": [
  {
   "cell_type": "code",
   "execution_count": 1,
   "id": "prostate-prevention",
   "metadata": {},
   "outputs": [
    {
     "name": "stdout",
     "output_type": "stream",
     "text": [
      "Tufts | MSCS : Tufts University - Master of Science in Computer Science\n",
      "Tufts | MSDS : Tufts University - Master of Science in Data Science\n",
      "Tufts | Post Bach : Tufts University - Post-Baccalaureate in Computer Science\n",
      "Pitt | MSHI : University of Pittsburgh - Online MSHI\n",
      "Pitt | CScD OT : University of Pittsburgh - Doctor of Clinical Science (CScD) in Occupational Therapy\n",
      "U Mich | Nursing : University of Michigan - Master of Science in Nursing in Leadership, Analytics and Innovation\n",
      "Tulsa | Cybersecurity : University of Tulsa - Master of Science in Cybersecurity\n",
      "Tulsa | MBA : University of Tulsa - Online Masters in Business Administration (PT MBA)\n",
      "UW | iSchool MSIM : University of Washington - Master of Science in Information Management\n",
      "Howard | EMBA : Howard University - Online Executive MBA\n",
      "Howard | OMBA : Howard University - Online Part-time MBA\n",
      "UT | EMBA-GSC : University of Tennessee, Knoxville - Executive MBA for Global Supply Chain\n",
      "UT | Integrated Supply Chain : University of Tennessee, Knoxville - Integrated Supply Chain - Online\n",
      "UVA | Data Science : University of Virginia - Data Science - Online\n",
      "SMU | MBA Direct : Southern Methodist University - MBA Direct\n",
      "SMU | OMBA : Southern Methodist University - Online MBA\n",
      "SMU Lyle | MSCS-AI : Southern Methodist University - MS in Computer Science with AI Specialization\n",
      "SMU Lyle | MSNE : Southern Methodist University - MS in Network Engineering\n",
      "NYU Wagner | MHA : NYU - Online MHA\n",
      "Stevens | MSCS : Stevens Institute of Technology - MS in Computer Science\n",
      "Stevens | MSDS : Stevens Institute of Technology - MS in Data Science\n",
      "Mills | MEd : Mills College - Education - Educational Leadership (Online)\n",
      "Case Western | MBA : Case Western Reserve University - Master of Business Administration\n",
      "Case Western | MSCS : Case Western Reserve University - Master of Science in Computer Science\n",
      "Tulane | DSW Online : Tulane - Online Doctorate in Social Work\n",
      "Tulane | MSW Online : Tulane - Online MSW\n",
      "Tulane | MPH Online : Tulane - Online Master of Public Health (MPH)\n",
      "Tulane | MHA Online : Tulane - On-Campus Master of Health Administration (MHA)\n"
     ]
    }
   ],
   "source": [
    "import json\n",
    "JSON_FILE=\"config.json\"\n",
    "with open(JSON_FILE,\"r\",encoding=\"utf-8\") as f:\n",
    "    json_info=json.load(f)\n",
    "\n",
    "    \n",
    "for key,value in json_info.items():\n",
    "    print(key,\":\",value[\"name\"],\"-\",value[\"program\"])"
   ]
  },
  {
   "cell_type": "code",
   "execution_count": null,
   "id": "historic-pitch",
   "metadata": {},
   "outputs": [],
   "source": []
  }
 ],
 "metadata": {
  "kernelspec": {
   "display_name": "Python 3",
   "language": "python",
   "name": "python3"
  },
  "language_info": {
   "codemirror_mode": {
    "name": "ipython",
    "version": 3
   },
   "file_extension": ".py",
   "mimetype": "text/x-python",
   "name": "python",
   "nbconvert_exporter": "python",
   "pygments_lexer": "ipython3",
   "version": "3.6.12"
  }
 },
 "nbformat": 4,
 "nbformat_minor": 5
}
