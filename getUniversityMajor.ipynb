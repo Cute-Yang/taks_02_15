{
 "cells": [
  {
   "cell_type": "code",
   "execution_count": 20,
   "id": "continuous-withdrawal",
   "metadata": {},
   "outputs": [],
   "source": [
    "import pandas as pd\n",
    "import chardet\n",
    "from collections import defaultdict\n",
    "import os\n",
    "import time\n",
    "import json\n",
    "\n",
    "#define data path and col names\n",
    "DATA_PATH=\"Prospect_Perfromance_by_Source_(SMD)_data.csv\"\n",
    "COL_NAMES=(\"University\",\"Major\",\"Medium\",\"Source\",\"KPI\",\"Value\")\n",
    "SEP=\"\\t\"\n",
    "\n",
    "def get_encoding(file_path:str)->str:\n",
    "    with open(file_path, 'rb') as f:\n",
    "        return chardet.detect(f.read())['encoding']\n",
    "\n",
    "\n",
    "def getUniversityMajor(file_path,save_dir=\".\")->defaultdict:\n",
    "    '''\n",
    "    return the unique university and major record\n",
    "    \n",
    "    Args:\n",
    "    file_path:csv file path\n",
    "    \n",
    "    save_dir:the directory to save checkpoint and record json file\n",
    "    \n",
    "    Returns:\n",
    "    a map university to major  (a university has different major,so it is a list)\n",
    "    '''\n",
    "    file_encoding=get_encoding(file_path)\n",
    "    data=pd.read_csv(file_path,sep=SEP,encoding=file_encoding,skiprows=1,names=COL_NAMES)\n",
    "    duplicates_data=data.drop_duplicates([\"University\",\"Major\"])\n",
    "    \n",
    "    rows=duplicates_data.shape[0]\n",
    "    universityMajor=defaultdict(list)\n",
    "    for index in range(rows):\n",
    "        university=duplicates_data.iloc[index,0]\n",
    "        major=duplicates_data.iloc[index,1]\n",
    "        universityMajor[university].append(major)\n",
    "    current=int(time.time())\n",
    "    save_path=os.path.join(save_dir,\"universityMajor_%s.json\"%current)\n",
    "#     save_path=os.path.abspath(save_path)\n",
    "    print(\"save university majson record in %s\"%save_path)\n",
    "    checkpoint={\n",
    "        \"latest_file\":save_path\n",
    "    }\n",
    "    \n",
    "    with open(\"checkpoint.json\",\"w\") as f:\n",
    "        f.write(json.dumps(checkpoint,ensure_ascii=False))\n",
    "    \n",
    "    with open(save_path,\"w\") as f:\n",
    "        f.write(json.dumps(universityMajor,ensure_ascii=False))\n",
    "        \n",
    "    return universityMajor\n",
    "        \n"
   ]
  },
  {
   "cell_type": "code",
   "execution_count": 21,
   "id": "confident-advisory",
   "metadata": {},
   "outputs": [
    {
     "name": "stdout",
     "output_type": "stream",
     "text": [
      "save university majson record in ./universityMajor_1613377070.json\n"
     ]
    },
    {
     "data": {
      "text/plain": [
       "defaultdict(list,\n",
       "            {'American University': ['EDD in Education Policy and Leadership',\n",
       "              'M.Ed Education Policy and Leadership (Online)',\n",
       "              'MAT: Elementary (Online)'],\n",
       "             'Howard University': ['Online Executive MBA',\n",
       "              'Online Part-time MBA'],\n",
       "             'Mills College': ['Education - Educational Leadership (Online)'],\n",
       "             'NYU': ['Online MHA'],\n",
       "             'Southern Methodist University': ['MBA Direct',\n",
       "              'MS in Computer Science with AI Specialization',\n",
       "              'MS in Network Engineering',\n",
       "              'Online MBA'],\n",
       "             'Stevens Institute of Technology': ['MS in Computer Science',\n",
       "              'MS in Data Science'],\n",
       "             'Tufts University': ['Master of Science in Computer Science',\n",
       "              'Master of Science in Data Science',\n",
       "              'Post-Baccalaureate in Computer Science',\n",
       "              'Post-Baccalaureate in Computer Science / MS'],\n",
       "             'Tulane': ['On-campus MSW',\n",
       "              'Online Doctorate in Social Work',\n",
       "              'Online Dual Degree with Disaster Resilience Leadership (MSW/MS DRL)',\n",
       "              'Online Master of Public Health (MPH) in Community Health Sciences',\n",
       "              'Online MSW'],\n",
       "             'University of Michigan': ['Master of Science in Nursing in Leadership, Analytics and Innovation'],\n",
       "             'University of Pittsburgh': ['Doctor of Clinical Science (CScD) in Occupational Therapy',\n",
       "              'Online MSHI'],\n",
       "             'University of Tennessee, Knoxville': ['Executive MBA for Global Supply Chain',\n",
       "              'Integrated Supply Chain - Online'],\n",
       "             'University of Tulsa': ['Master of Science in Cybersecurity',\n",
       "              'Online Masters in Business Administration (PT MBA)'],\n",
       "             'University of Virginia': ['Data Science - Online'],\n",
       "             'University of Washington': ['Master of Science in Information Management'],\n",
       "             'Virginia Commonwealth University': ['MA Homeland Security and Emergency Preparedness',\n",
       "              'MSW (Master of Social Work)']})"
      ]
     },
     "execution_count": 21,
     "metadata": {},
     "output_type": "execute_result"
    }
   ],
   "source": [
    "getUniversityMajor(DATA_PATH)"
   ]
  },
  {
   "cell_type": "code",
   "execution_count": null,
   "id": "outside-trance",
   "metadata": {},
   "outputs": [],
   "source": []
  }
 ],
 "metadata": {
  "kernelspec": {
   "display_name": "Python 3",
   "language": "python",
   "name": "python3"
  },
  "language_info": {
   "codemirror_mode": {
    "name": "ipython",
    "version": 3
   },
   "file_extension": ".py",
   "mimetype": "text/x-python",
   "name": "python",
   "nbconvert_exporter": "python",
   "pygments_lexer": "ipython3",
   "version": "3.6.12"
  }
 },
 "nbformat": 4,
 "nbformat_minor": 5
}
